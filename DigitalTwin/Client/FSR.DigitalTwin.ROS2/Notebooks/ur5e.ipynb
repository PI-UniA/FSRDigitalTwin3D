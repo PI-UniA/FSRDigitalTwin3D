{
 "cells": [
  {
   "cell_type": "markdown",
   "metadata": {},
   "source": [
    "# Use Case - UR5e\n",
    "A use case representing a UR5e robot using a digital twin.\n",
    "\n",
    "This notebook controls the physical counterpart accessing the ROS driver to forward operation invocations via the RTDE control scripts"
   ]
  },
  {
   "cell_type": "code",
   "execution_count": 1,
   "metadata": {},
   "outputs": [],
   "source": [
    "# Setup paths\n",
    "\n",
    "import os\n",
    "import sys\n",
    "\n",
    "SCRIPT_PATH = os.path.relpath(\"../Scripts/\")\n",
    "GRPC_GEN_PATH = os.path.relpath(\"../FSR.DigitalTwin.Generated/GRPC.Generated/\")\n",
    "PROTOS_GEN_PATH = os.path.relpath(\"../FSR.DigitalTwin.Generated/Message.Generated/\")\n",
    "\n",
    "cwd = os.path.abspath(os.getcwd())\n",
    "\n",
    "sys.path.append(os.path.join(cwd, SCRIPT_PATH))\n",
    "sys.path.append(os.path.join(cwd, GRPC_GEN_PATH))\n",
    "sys.path.append(os.path.join(cwd, PROTOS_GEN_PATH))\n",
    "\n",
    "# Import Protobuf\n",
    "\n",
    "os.environ[\"PROTOCOL_BUFFERS_PYTHON_IMPLEMENTATION\"] = \"python\"\n",
    "from google.protobuf import message\n",
    "import grpc"
   ]
  },
  {
   "cell_type": "markdown",
   "metadata": {},
   "source": [
    "Establish a connection to the AAS server containing the digital representation of the assets"
   ]
  },
  {
   "cell_type": "code",
   "execution_count": 2,
   "metadata": {},
   "outputs": [],
   "source": [
    "from fsr.digital_twin.workspace.digital_workspace import DigitalWorkspace\n",
    "\n",
    "workspace = DigitalWorkspace()\n",
    "workspace.connect()"
   ]
  },
  {
   "cell_type": "markdown",
   "metadata": {},
   "source": [
    "Abort connection to digital twin server"
   ]
  },
  {
   "cell_type": "code",
   "execution_count": 54,
   "metadata": {},
   "outputs": [],
   "source": [
    "workspace.disconnect()"
   ]
  },
  {
   "cell_type": "markdown",
   "metadata": {},
   "source": [
    "Create instance of UR5e robot"
   ]
  },
  {
   "cell_type": "code",
   "execution_count": 3,
   "metadata": {},
   "outputs": [
    {
     "name": "stdout",
     "output_type": "stream",
     "text": [
      "RTDEIOInterface: realtime kernel not found, consider using a realtime kernel for better performance\n",
      "Connected successfully to: 192.168.0.100 at 30004\n"
     ]
    }
   ],
   "source": [
    "from fsr.control.rtde.ur.UR5e import UR5e\n",
    "\n",
    "\n",
    "ROBOT_HOST = \"192.168.0.100\"\n",
    "ROBOT_PORT = 30004\n",
    "\n",
    "robot: UR5e = UR5e(ROBOT_HOST, True)"
   ]
  },
  {
   "cell_type": "markdown",
   "metadata": {},
   "source": [
    "Send robot orientation to digital workspace"
   ]
  },
  {
   "cell_type": "code",
   "execution_count": 3,
   "metadata": {},
   "outputs": [
    {
     "data": {
      "text/plain": [
       "(311.05599480399627,\n",
       " 236.4632017650581,\n",
       " -60.6684484538495,\n",
       " 278.50817289930995,\n",
       " 87.61544003125414,\n",
       " 56.53324694885834)"
      ]
     },
     "execution_count": 3,
     "metadata": {},
     "output_type": "execute_result"
    }
   ],
   "source": [
    "from Protos.AasModels.V3_pb2 import KeyDTO, SubmodelElementCollectionPayloadDTO, SubmodelElementDTO\n",
    "from Protos.Services.SubmodelService_pb2 import PutSubmodelElementByPathRpcRequest\n",
    "\n",
    "SUBMODEL_ID: str = \"aHR0cHM6Ly93d3cuaHMtZW1kZW4tbGVlci5kZS9pZHMvc20vNjQ5NF8yMTYyXzUwMzJfMjgxMw\"\n",
    "\n",
    "orientation = tuple([311.05599480399627, 236.4632017650581, 300.6684484538495, 278.50817289930995, 87.61544003125414, 56.53324694885834])\n",
    "orientation = tuple([311.05599480399627, 236.4632017650581, -60.6684484538495, 278.50817289930995, 87.61544003125414, 56.53324694885834])\n",
    "# orientation = robot.get_joint_positions_deg()\n",
    "\n",
    "request = PutSubmodelElementByPathRpcRequest()\n",
    "request.submodelId = SUBMODEL_ID\n",
    "request.submodelElement\n",
    "request.submodelElement.idShort = \"orientation_parameters\"\n",
    "request.submodelElement.submodelElementType = 16\n",
    "\n",
    "for i in range(len(orientation)):\n",
    "    jointProp = SubmodelElementDTO()\n",
    "    jointProp.idShort = \"joint_\" + str(i) + \"_z\"\n",
    "    jointProp.submodelElementType = 10\n",
    "    jointProp.property.valueType = 9\n",
    "    jointProp.property.value = str(orientation[i])\n",
    "    request.submodelElement.submodelElementCollection.value.append(jointProp)\n",
    "\n",
    "orientation_key = KeyDTO()\n",
    "orientation_key.type = 22\n",
    "orientation_key.Value = \"orientation_parameters\"\n",
    "request.path.append(orientation_key)\n",
    "response = workspace.api_bridge.aas_api.submodel.PutSubmodelElementByPath(request)\n",
    "if response.statusCode >= 400:\n",
    "    raise RuntimeError(\"Failed to push data!\")\n",
    "\n",
    "orientation"
   ]
  }
 ],
 "metadata": {
  "kernelspec": {
   "display_name": "ur5_rtde",
   "language": "python",
   "name": "python3"
  },
  "language_info": {
   "codemirror_mode": {
    "name": "ipython",
    "version": 3
   },
   "file_extension": ".py",
   "mimetype": "text/x-python",
   "name": "python",
   "nbconvert_exporter": "python",
   "pygments_lexer": "ipython3",
   "version": "3.12.2"
  }
 },
 "nbformat": 4,
 "nbformat_minor": 2
}
